{
 "cells": [
  {
   "cell_type": "code",
   "execution_count": 19,
   "metadata": {},
   "outputs": [],
   "source": [
    "import pandas as pd\n",
    "path = \"Resources/purchase_data.csv\"\n",
    "pdpath = pd.read_csv(path)\n",
    "pdpath2 = pd.read_csv(path)\n",
    "\n",
    "#creating empty lists\n",
    "unique_player = []\n",
    "unique_item = []\n",
    "total_purchased_item = []\n",
    "average_purchase_price = []\n",
    "total_revenue = []\n",
    "\n"
   ]
  },
  {
   "cell_type": "code",
   "execution_count": 2,
   "metadata": {},
   "outputs": [
    {
     "data": {
      "text/plain": [
       "576"
      ]
     },
     "execution_count": 2,
     "metadata": {},
     "output_type": "execute_result"
    }
   ],
   "source": [
    "# storing unique total players on a list. Then we can do the length of the list, to find out how many unique players\n",
    "unique_player = pdpath[\"SN\"].unique()\n",
    "len(unique_player)"
   ]
  },
  {
   "cell_type": "code",
   "execution_count": 3,
   "metadata": {},
   "outputs": [],
   "source": [
    "#storing unique Items on a list. Then we can do the length of the list, to find out how many unique items\n",
    "unique_item = pdpath[\"Item Name\"].unique()\n",
    "#len(unique_item)"
   ]
  },
  {
   "cell_type": "code",
   "execution_count": 4,
   "metadata": {},
   "outputs": [
    {
     "data": {
      "text/plain": [
       "780"
      ]
     },
     "execution_count": 4,
     "metadata": {},
     "output_type": "execute_result"
    }
   ],
   "source": [
    "#storing all purchases into a list. Then we can do calculations to find the total revenue, average purchase price,\n",
    "# and number of purchases.\n",
    "total_purchased_item = pdpath[\"Price\"]\n",
    "# Total revenue\n",
    "total_purchased_item.sum()\n",
    "# average price, rounding to 2 dec. points, and also $ format.\n",
    "average_purchase_price = \"${:,.2f}\".format(total_purchased_item.mean())\n",
    "# number of purchases. this is just the length\n",
    "len(total_purchased_item)"
   ]
  },
  {
   "cell_type": "code",
   "execution_count": 5,
   "metadata": {},
   "outputs": [],
   "source": [
    "#total revenue\n",
    "total_revenue = \"${:,.2f}\".format(total_purchased_item.sum())"
   ]
  },
  {
   "cell_type": "code",
   "execution_count": 6,
   "metadata": {},
   "outputs": [],
   "source": [
    "# creating a new dataframe for (PURCHASING ANALYSIS)\n",
    "purchasing_analysis_df = pd.DataFrame({\"Number of Unique Items\": [len(unique_item)],\n",
    "                          \"Average Purchase Price\": [average_purchase_price],\n",
    "                       \"Total Number of Purchases\": [len(total_purchased_item)],\n",
    "                       \"Total Revenue\":[total_revenue]\n",
    "                          }\n",
    ")"
   ]
  },
  {
   "cell_type": "code",
   "execution_count": 7,
   "metadata": {},
   "outputs": [
    {
     "data": {
      "text/html": [
       "<div>\n",
       "<style scoped>\n",
       "    .dataframe tbody tr th:only-of-type {\n",
       "        vertical-align: middle;\n",
       "    }\n",
       "\n",
       "    .dataframe tbody tr th {\n",
       "        vertical-align: top;\n",
       "    }\n",
       "\n",
       "    .dataframe thead th {\n",
       "        text-align: right;\n",
       "    }\n",
       "</style>\n",
       "<table border=\"1\" class=\"dataframe\">\n",
       "  <thead>\n",
       "    <tr style=\"text-align: right;\">\n",
       "      <th></th>\n",
       "      <th>Number of Unique Items</th>\n",
       "      <th>Average Purchase Price</th>\n",
       "      <th>Total Number of Purchases</th>\n",
       "      <th>Total Revenue</th>\n",
       "    </tr>\n",
       "  </thead>\n",
       "  <tbody>\n",
       "    <tr>\n",
       "      <th>0</th>\n",
       "      <td>179</td>\n",
       "      <td>$3.05</td>\n",
       "      <td>780</td>\n",
       "      <td>$2,379.77</td>\n",
       "    </tr>\n",
       "  </tbody>\n",
       "</table>\n",
       "</div>"
      ],
      "text/plain": [
       "   Number of Unique Items Average Purchase Price  Total Number of Purchases  \\\n",
       "0                     179                  $3.05                        780   \n",
       "\n",
       "  Total Revenue  \n",
       "0     $2,379.77  "
      ]
     },
     "execution_count": 7,
     "metadata": {},
     "output_type": "execute_result"
    }
   ],
   "source": [
    "purchasing_analysis_df"
   ]
  },
  {
   "cell_type": "code",
   "execution_count": 8,
   "metadata": {},
   "outputs": [],
   "source": [
    "#create a dataframe with: unique players, gender\n",
    "gender_df = pd.DataFrame({\"Player\": pdpath[\"SN\"],\n",
    "                          \"Gender\": pdpath[\"Gender\"],\n",
    "                        \"Age\": pdpath[\"Age\"]\n",
    "                         })"
   ]
  },
  {
   "cell_type": "code",
   "execution_count": 9,
   "metadata": {},
   "outputs": [],
   "source": [
    "#dropping/filtering by UNIQUE Player:\n",
    "gender_df.drop_duplicates(subset = \"Player\", keep = \"first\", inplace = True)"
   ]
  },
  {
   "cell_type": "code",
   "execution_count": 10,
   "metadata": {},
   "outputs": [],
   "source": [
    "# creating a \"Gender Demographics\" dataframe\n",
    "gender_demo_df = pd.DataFrame({\"Gender\":[\"Male\",\"Female\",\"Other / Non-Disclosed\"],\n",
    "                          \"Total Count\": [len(gender_df[gender_df[\"Gender\"]==\"Male\"]), len(gender_df[gender_df[\"Gender\"]==\"Female\"]), len(gender_df[gender_df[\"Gender\"]==\"Other / Non-Disclosed\"])],\n",
    "                               \"Percentage of Players\": [\"{0:.2f}%\".format((len(gender_df[gender_df[\"Gender\"]==\"Male\"])/len(gender_df[\"Gender\"])*100)),\"{0:.2f}%\".format((len(gender_df[gender_df[\"Gender\"]==\"Female\"])/len(gender_df[\"Gender\"])*100)), \"{0:.2f}%\".format((len(gender_df[gender_df[\"Gender\"]==\"Other / Non-Disclosed\"])/len(gender_df[\"Gender\"])*100))]\n",
    "                             })"
   ]
  },
  {
   "cell_type": "code",
   "execution_count": 11,
   "metadata": {},
   "outputs": [],
   "source": [
    "#Putting GENDER as Index\n",
    "gender_demo_df = gender_demo_df.set_index(\"Gender\")"
   ]
  },
  {
   "cell_type": "code",
   "execution_count": 12,
   "metadata": {},
   "outputs": [
    {
     "data": {
      "text/html": [
       "<div>\n",
       "<style scoped>\n",
       "    .dataframe tbody tr th:only-of-type {\n",
       "        vertical-align: middle;\n",
       "    }\n",
       "\n",
       "    .dataframe tbody tr th {\n",
       "        vertical-align: top;\n",
       "    }\n",
       "\n",
       "    .dataframe thead th {\n",
       "        text-align: right;\n",
       "    }\n",
       "</style>\n",
       "<table border=\"1\" class=\"dataframe\">\n",
       "  <thead>\n",
       "    <tr style=\"text-align: right;\">\n",
       "      <th></th>\n",
       "      <th>Total Count</th>\n",
       "      <th>Percentage of Players</th>\n",
       "    </tr>\n",
       "    <tr>\n",
       "      <th>Gender</th>\n",
       "      <th></th>\n",
       "      <th></th>\n",
       "    </tr>\n",
       "  </thead>\n",
       "  <tbody>\n",
       "    <tr>\n",
       "      <th>Male</th>\n",
       "      <td>484</td>\n",
       "      <td>84.03%</td>\n",
       "    </tr>\n",
       "    <tr>\n",
       "      <th>Female</th>\n",
       "      <td>81</td>\n",
       "      <td>14.06%</td>\n",
       "    </tr>\n",
       "    <tr>\n",
       "      <th>Other / Non-Disclosed</th>\n",
       "      <td>11</td>\n",
       "      <td>1.91%</td>\n",
       "    </tr>\n",
       "  </tbody>\n",
       "</table>\n",
       "</div>"
      ],
      "text/plain": [
       "                       Total Count Percentage of Players\n",
       "Gender                                                  \n",
       "Male                           484                84.03%\n",
       "Female                          81                14.06%\n",
       "Other / Non-Disclosed           11                 1.91%"
      ]
     },
     "execution_count": 12,
     "metadata": {},
     "output_type": "execute_result"
    }
   ],
   "source": [
    "gender_demo_df"
   ]
  },
  {
   "cell_type": "code",
   "execution_count": 13,
   "metadata": {},
   "outputs": [],
   "source": [
    "#instead of doing all the calculations in/on the dataframe creation, We are storing each individual calculated\n",
    "# values into a list, then storing the list into the dataframe\n",
    "\n",
    "#creating a list for Female's Average purchase price. formatting will put the $ AND 2 decimal points.\n",
    "female_avg_purchase_price = \"${:,.2f}\".format(float(pdpath.loc[pdpath[\"Gender\"]==\"Female\",[\"Price\"]].sum()/len(pdpath.loc[pdpath[\"Gender\"]==\"Female\",[\"Price\"]])))\n",
    "\n",
    "#creating a list for male's Average purchase price. formatting will put the $ AND 2 decimal points.\n",
    "male_avg_purchase_price = \"${:,.2f}\".format(float(pdpath.loc[pdpath[\"Gender\"]==\"Male\",[\"Price\"]].sum()/len(pdpath.loc[pdpath[\"Gender\"]==\"Male\",[\"Price\"]])))\n",
    "\n",
    "#creating a list for other gender's Average purchase price. formatting will put the $ AND 2 decimal points.\n",
    "other_avg_purchase_price = \"${:,.2f}\".format(float(pdpath.loc[pdpath[\"Gender\"]==\"Other / Non-Disclosed\",[\"Price\"]].sum()/len(pdpath.loc[pdpath[\"Gender\"]==\"Other / Non-Disclosed\",[\"Price\"]])))\n",
    "\n",
    "#creating female's total purchase value:\n",
    "female_total_purchase = \"${:,.2f}\".format(float(pdpath.loc[pdpath[\"Gender\"]==\"Female\",[\"Price\"]].sum()))\n",
    "\n",
    "#creating male's total purchase value:\n",
    "male_total_purchase = \"${:,.2f}\".format(float(pdpath.loc[pdpath[\"Gender\"]==\"Male\",[\"Price\"]].sum()))\n",
    "\n",
    "#creating other gender's total purchase value:\n",
    "other_total_purchase = \"${:,.2f}\".format(float(pdpath.loc[pdpath[\"Gender\"]==\"Other / Non-Disclosed\",[\"Price\"]].sum()))\n",
    "\n",
    "#creating female's average total purchase per PERSON: \n",
    "#NOTE: we are dividing the total purchase value of ALL female by the UNIQUE count of all female.\n",
    "# this will be the same while calculating male and other gender's average total purchase per person.\n",
    "# we are pulling the unique count of gender FROM the \"gender_df\" dataframe, because it already filtered the unique value.\n",
    "female_avg_purc_perperson = \"${:,.2f}\".format(float(pdpath.loc[pdpath[\"Gender\"]==\"Female\",[\"Price\"]].sum()/len(gender_df.loc[gender_df[\"Gender\"]==\"Female\"])))\n",
    "\n",
    "#now doing it for male and other gender:\n",
    "male_avg_purc_perperson = \"${:,.2f}\".format(float(pdpath.loc[pdpath[\"Gender\"]==\"Male\",[\"Price\"]].sum()/len(gender_df.loc[gender_df[\"Gender\"]==\"Male\"])))\n",
    "other_avg_purc_perperson = \"${:,.2f}\".format(float(pdpath.loc[pdpath[\"Gender\"]==\"Other / Non-Disclosed\",[\"Price\"]].sum()/len(gender_df.loc[gender_df[\"Gender\"]==\"Other / Non-Disclosed\"])))\n",
    "\n",
    "# now that all the variables have been set, we can finally create a dataframe to hold all the values.\n",
    "# creating a \"Purchasing Analysis (Gender)\" dataframe\n",
    "purchasing_analysis_df = pd.DataFrame({\"Gender\":[\"Male\",\"Female\",\"Other / Non-Disclosed\"],\n",
    "      \"Purchase Count\":[len(pdpath.loc[pdpath[\"Gender\"]==\"Female\",[\"Price\"]]), len(pdpath.loc[pdpath[\"Gender\"]==\"Male\",[\"Price\"]]), len(pdpath.loc[pdpath[\"Gender\"]==\"Other / Non-Disclosed\",[\"Price\"]])],\n",
    "      \"Average Purchase Price\":[female_avg_purchase_price,male_avg_purchase_price,other_avg_purchase_price],\n",
    "      \"Total Purchase Value\":[female_total_purchase,male_total_purchase,other_total_purchase],\n",
    "      \"Avg Total Purchase per Person\":[female_avg_purc_perperson,male_avg_purc_perperson,other_avg_purc_perperson]\n",
    "    \n",
    "})"
   ]
  },
  {
   "cell_type": "code",
   "execution_count": 14,
   "metadata": {},
   "outputs": [
    {
     "data": {
      "text/html": [
       "<div>\n",
       "<style scoped>\n",
       "    .dataframe tbody tr th:only-of-type {\n",
       "        vertical-align: middle;\n",
       "    }\n",
       "\n",
       "    .dataframe tbody tr th {\n",
       "        vertical-align: top;\n",
       "    }\n",
       "\n",
       "    .dataframe thead th {\n",
       "        text-align: right;\n",
       "    }\n",
       "</style>\n",
       "<table border=\"1\" class=\"dataframe\">\n",
       "  <thead>\n",
       "    <tr style=\"text-align: right;\">\n",
       "      <th></th>\n",
       "      <th>Purchase Count</th>\n",
       "      <th>Average Purchase Price</th>\n",
       "      <th>Total Purchase Value</th>\n",
       "      <th>Avg Total Purchase per Person</th>\n",
       "    </tr>\n",
       "    <tr>\n",
       "      <th>Gender</th>\n",
       "      <th></th>\n",
       "      <th></th>\n",
       "      <th></th>\n",
       "      <th></th>\n",
       "    </tr>\n",
       "  </thead>\n",
       "  <tbody>\n",
       "    <tr>\n",
       "      <th>Male</th>\n",
       "      <td>113</td>\n",
       "      <td>$3.20</td>\n",
       "      <td>$361.94</td>\n",
       "      <td>$4.47</td>\n",
       "    </tr>\n",
       "    <tr>\n",
       "      <th>Female</th>\n",
       "      <td>652</td>\n",
       "      <td>$3.02</td>\n",
       "      <td>$1,967.64</td>\n",
       "      <td>$4.07</td>\n",
       "    </tr>\n",
       "    <tr>\n",
       "      <th>Other / Non-Disclosed</th>\n",
       "      <td>15</td>\n",
       "      <td>$3.35</td>\n",
       "      <td>$50.19</td>\n",
       "      <td>$4.56</td>\n",
       "    </tr>\n",
       "  </tbody>\n",
       "</table>\n",
       "</div>"
      ],
      "text/plain": [
       "                       Purchase Count Average Purchase Price  \\\n",
       "Gender                                                         \n",
       "Male                              113                  $3.20   \n",
       "Female                            652                  $3.02   \n",
       "Other / Non-Disclosed              15                  $3.35   \n",
       "\n",
       "                      Total Purchase Value Avg Total Purchase per Person  \n",
       "Gender                                                                    \n",
       "Male                               $361.94                         $4.47  \n",
       "Female                           $1,967.64                         $4.07  \n",
       "Other / Non-Disclosed               $50.19                         $4.56  "
      ]
     },
     "execution_count": 14,
     "metadata": {},
     "output_type": "execute_result"
    }
   ],
   "source": [
    "#Putting GENDER as Index\n",
    "purchasing_analysis_df = purchasing_analysis_df.set_index(\"Gender\")\n",
    "purchasing_analysis_df"
   ]
  },
  {
   "cell_type": "code",
   "execution_count": 15,
   "metadata": {},
   "outputs": [],
   "source": [
    "# creating a copy of the dataframe (gender_df), which already filter the unique user\n",
    "gender_df2 = pd.DataFrame(gender_df)\n",
    "\n",
    "#creating a new column in that dataframe, that has the percentage value. so each player has the same amount of percentage.\n",
    "gender_df2[\"Percentage of Players\"] = 1/576\n",
    "\n"
   ]
  },
  {
   "cell_type": "code",
   "execution_count": 16,
   "metadata": {},
   "outputs": [
    {
     "data": {
      "text/html": [
       "<div>\n",
       "<style scoped>\n",
       "    .dataframe tbody tr th:only-of-type {\n",
       "        vertical-align: middle;\n",
       "    }\n",
       "\n",
       "    .dataframe tbody tr th {\n",
       "        vertical-align: top;\n",
       "    }\n",
       "\n",
       "    .dataframe thead th {\n",
       "        text-align: right;\n",
       "    }\n",
       "</style>\n",
       "<table border=\"1\" class=\"dataframe\">\n",
       "  <thead>\n",
       "    <tr style=\"text-align: right;\">\n",
       "      <th></th>\n",
       "      <th>Total Count</th>\n",
       "      <th>Percentage of Players</th>\n",
       "    </tr>\n",
       "    <tr>\n",
       "      <th>Age Ranges</th>\n",
       "      <th></th>\n",
       "      <th></th>\n",
       "    </tr>\n",
       "  </thead>\n",
       "  <tbody>\n",
       "    <tr>\n",
       "      <th>Less than 10</th>\n",
       "      <td>17</td>\n",
       "      <td>2.95%</td>\n",
       "    </tr>\n",
       "    <tr>\n",
       "      <th>10-14</th>\n",
       "      <td>22</td>\n",
       "      <td>3.82%</td>\n",
       "    </tr>\n",
       "    <tr>\n",
       "      <th>15-19</th>\n",
       "      <td>107</td>\n",
       "      <td>18.58%</td>\n",
       "    </tr>\n",
       "    <tr>\n",
       "      <th>20-24</th>\n",
       "      <td>258</td>\n",
       "      <td>44.79%</td>\n",
       "    </tr>\n",
       "    <tr>\n",
       "      <th>25-29</th>\n",
       "      <td>77</td>\n",
       "      <td>13.37%</td>\n",
       "    </tr>\n",
       "    <tr>\n",
       "      <th>30-34</th>\n",
       "      <td>52</td>\n",
       "      <td>9.03%</td>\n",
       "    </tr>\n",
       "    <tr>\n",
       "      <th>35-39</th>\n",
       "      <td>31</td>\n",
       "      <td>5.38%</td>\n",
       "    </tr>\n",
       "    <tr>\n",
       "      <th>40+</th>\n",
       "      <td>12</td>\n",
       "      <td>2.08%</td>\n",
       "    </tr>\n",
       "  </tbody>\n",
       "</table>\n",
       "</div>"
      ],
      "text/plain": [
       "              Total Count Percentage of Players\n",
       "Age Ranges                                     \n",
       "Less than 10           17                 2.95%\n",
       "10-14                  22                 3.82%\n",
       "15-19                 107                18.58%\n",
       "20-24                 258                44.79%\n",
       "25-29                  77                13.37%\n",
       "30-34                  52                 9.03%\n",
       "35-39                  31                 5.38%\n",
       "40+                    12                 2.08%"
      ]
     },
     "execution_count": 16,
     "metadata": {},
     "output_type": "execute_result"
    }
   ],
   "source": [
    "# for Age Demographics analysis, we need to establish Age bin list\n",
    "age_bin = [0,9,14,19,24,29,34,39,100]\n",
    "age_group = [\"Less than 10\",\"10-14\",\"15-19\",\"20-24\",\"25-29\",\"30-34\",\"35-39\",\"40+\"]\n",
    "\n",
    "#creating a new dataframe to store AgeDemographics \n",
    "AgeDemographics = pd.DataFrame(gender_df2)\n",
    "AgeDemographics[\"Age Ranges\"] = pd.cut(AgeDemographics[\"Age\"], age_bin, labels=age_group, include_lowest=True)\n",
    "\n",
    "#creating a new list to hold the \"age ranges\" on the groupby:\n",
    "test_list = AgeDemographics.groupby(\"Age Ranges\")\n",
    "\n",
    "#creating a new dataframe to hold the values:\n",
    "test_df2 = pd.DataFrame(test_list.count().head(8))\n",
    "\n",
    "#creating a new dataframe to hold the percentage of players\n",
    "test_df3 = pd.DataFrame(test_list[\"Percentage of Players\"].sum())\n",
    "test_df3[\"Percentage of Players\"] = test_df3[\"Percentage of Players\"]\n",
    "\n",
    "#now compiling different columns from different dataframes:\n",
    "age_demographics_df = pd.DataFrame({\"Total Count\":(test_df2[\"Player\"]),\n",
    "                         \"Percentage of Players\":(test_df3[\"Percentage of Players\"].map(\"{:,.2%}\".format))\n",
    "    })\n",
    "\n",
    "#printing Age Demographics\n",
    "age_demographics_df"
   ]
  },
  {
   "cell_type": "code",
   "execution_count": 37,
   "metadata": {},
   "outputs": [
    {
     "data": {
      "text/html": [
       "<style  type=\"text/css\" >\n",
       "</style><table id=\"T_036eaab8_c7eb_11ea_88f0_7cb27dbb8f31\" ><thead>    <tr>        <th class=\"blank level0\" ></th>        <th class=\"col_heading level0 col0\" >Purchase Count</th>        <th class=\"col_heading level0 col1\" >Average Purchase Price</th>        <th class=\"col_heading level0 col2\" >Total Purchase Value</th>        <th class=\"col_heading level0 col3\" >Avg Total Purchase per Person</th>    </tr>    <tr>        <th class=\"index_name level0\" >Age Ranges</th>        <th class=\"blank\" ></th>        <th class=\"blank\" ></th>        <th class=\"blank\" ></th>        <th class=\"blank\" ></th>    </tr></thead><tbody>\n",
       "                <tr>\n",
       "                        <th id=\"T_036eaab8_c7eb_11ea_88f0_7cb27dbb8f31level0_row0\" class=\"row_heading level0 row0\" >Less than 10</th>\n",
       "                        <td id=\"T_036eaab8_c7eb_11ea_88f0_7cb27dbb8f31row0_col0\" class=\"data row0 col0\" >23</td>\n",
       "                        <td id=\"T_036eaab8_c7eb_11ea_88f0_7cb27dbb8f31row0_col1\" class=\"data row0 col1\" >$3.35</td>\n",
       "                        <td id=\"T_036eaab8_c7eb_11ea_88f0_7cb27dbb8f31row0_col2\" class=\"data row0 col2\" >$77.13</td>\n",
       "                        <td id=\"T_036eaab8_c7eb_11ea_88f0_7cb27dbb8f31row0_col3\" class=\"data row0 col3\" >$4.54</td>\n",
       "            </tr>\n",
       "            <tr>\n",
       "                        <th id=\"T_036eaab8_c7eb_11ea_88f0_7cb27dbb8f31level0_row1\" class=\"row_heading level0 row1\" >10-14</th>\n",
       "                        <td id=\"T_036eaab8_c7eb_11ea_88f0_7cb27dbb8f31row1_col0\" class=\"data row1 col0\" >28</td>\n",
       "                        <td id=\"T_036eaab8_c7eb_11ea_88f0_7cb27dbb8f31row1_col1\" class=\"data row1 col1\" >$2.96</td>\n",
       "                        <td id=\"T_036eaab8_c7eb_11ea_88f0_7cb27dbb8f31row1_col2\" class=\"data row1 col2\" >$82.78</td>\n",
       "                        <td id=\"T_036eaab8_c7eb_11ea_88f0_7cb27dbb8f31row1_col3\" class=\"data row1 col3\" >$3.76</td>\n",
       "            </tr>\n",
       "            <tr>\n",
       "                        <th id=\"T_036eaab8_c7eb_11ea_88f0_7cb27dbb8f31level0_row2\" class=\"row_heading level0 row2\" >15-19</th>\n",
       "                        <td id=\"T_036eaab8_c7eb_11ea_88f0_7cb27dbb8f31row2_col0\" class=\"data row2 col0\" >136</td>\n",
       "                        <td id=\"T_036eaab8_c7eb_11ea_88f0_7cb27dbb8f31row2_col1\" class=\"data row2 col1\" >$3.04</td>\n",
       "                        <td id=\"T_036eaab8_c7eb_11ea_88f0_7cb27dbb8f31row2_col2\" class=\"data row2 col2\" >$412.89</td>\n",
       "                        <td id=\"T_036eaab8_c7eb_11ea_88f0_7cb27dbb8f31row2_col3\" class=\"data row2 col3\" >$3.86</td>\n",
       "            </tr>\n",
       "            <tr>\n",
       "                        <th id=\"T_036eaab8_c7eb_11ea_88f0_7cb27dbb8f31level0_row3\" class=\"row_heading level0 row3\" >20-24</th>\n",
       "                        <td id=\"T_036eaab8_c7eb_11ea_88f0_7cb27dbb8f31row3_col0\" class=\"data row3 col0\" >365</td>\n",
       "                        <td id=\"T_036eaab8_c7eb_11ea_88f0_7cb27dbb8f31row3_col1\" class=\"data row3 col1\" >$3.05</td>\n",
       "                        <td id=\"T_036eaab8_c7eb_11ea_88f0_7cb27dbb8f31row3_col2\" class=\"data row3 col2\" >$1,114.06</td>\n",
       "                        <td id=\"T_036eaab8_c7eb_11ea_88f0_7cb27dbb8f31row3_col3\" class=\"data row3 col3\" >$4.32</td>\n",
       "            </tr>\n",
       "            <tr>\n",
       "                        <th id=\"T_036eaab8_c7eb_11ea_88f0_7cb27dbb8f31level0_row4\" class=\"row_heading level0 row4\" >25-29</th>\n",
       "                        <td id=\"T_036eaab8_c7eb_11ea_88f0_7cb27dbb8f31row4_col0\" class=\"data row4 col0\" >101</td>\n",
       "                        <td id=\"T_036eaab8_c7eb_11ea_88f0_7cb27dbb8f31row4_col1\" class=\"data row4 col1\" >$2.90</td>\n",
       "                        <td id=\"T_036eaab8_c7eb_11ea_88f0_7cb27dbb8f31row4_col2\" class=\"data row4 col2\" >$293.00</td>\n",
       "                        <td id=\"T_036eaab8_c7eb_11ea_88f0_7cb27dbb8f31row4_col3\" class=\"data row4 col3\" >$3.81</td>\n",
       "            </tr>\n",
       "            <tr>\n",
       "                        <th id=\"T_036eaab8_c7eb_11ea_88f0_7cb27dbb8f31level0_row5\" class=\"row_heading level0 row5\" >30-34</th>\n",
       "                        <td id=\"T_036eaab8_c7eb_11ea_88f0_7cb27dbb8f31row5_col0\" class=\"data row5 col0\" >73</td>\n",
       "                        <td id=\"T_036eaab8_c7eb_11ea_88f0_7cb27dbb8f31row5_col1\" class=\"data row5 col1\" >$2.93</td>\n",
       "                        <td id=\"T_036eaab8_c7eb_11ea_88f0_7cb27dbb8f31row5_col2\" class=\"data row5 col2\" >$214.00</td>\n",
       "                        <td id=\"T_036eaab8_c7eb_11ea_88f0_7cb27dbb8f31row5_col3\" class=\"data row5 col3\" >$4.12</td>\n",
       "            </tr>\n",
       "            <tr>\n",
       "                        <th id=\"T_036eaab8_c7eb_11ea_88f0_7cb27dbb8f31level0_row6\" class=\"row_heading level0 row6\" >35-39</th>\n",
       "                        <td id=\"T_036eaab8_c7eb_11ea_88f0_7cb27dbb8f31row6_col0\" class=\"data row6 col0\" >41</td>\n",
       "                        <td id=\"T_036eaab8_c7eb_11ea_88f0_7cb27dbb8f31row6_col1\" class=\"data row6 col1\" >$3.60</td>\n",
       "                        <td id=\"T_036eaab8_c7eb_11ea_88f0_7cb27dbb8f31row6_col2\" class=\"data row6 col2\" >$147.67</td>\n",
       "                        <td id=\"T_036eaab8_c7eb_11ea_88f0_7cb27dbb8f31row6_col3\" class=\"data row6 col3\" >$4.76</td>\n",
       "            </tr>\n",
       "            <tr>\n",
       "                        <th id=\"T_036eaab8_c7eb_11ea_88f0_7cb27dbb8f31level0_row7\" class=\"row_heading level0 row7\" >40+</th>\n",
       "                        <td id=\"T_036eaab8_c7eb_11ea_88f0_7cb27dbb8f31row7_col0\" class=\"data row7 col0\" >13</td>\n",
       "                        <td id=\"T_036eaab8_c7eb_11ea_88f0_7cb27dbb8f31row7_col1\" class=\"data row7 col1\" >$2.94</td>\n",
       "                        <td id=\"T_036eaab8_c7eb_11ea_88f0_7cb27dbb8f31row7_col2\" class=\"data row7 col2\" >$38.24</td>\n",
       "                        <td id=\"T_036eaab8_c7eb_11ea_88f0_7cb27dbb8f31row7_col3\" class=\"data row7 col3\" >$3.19</td>\n",
       "            </tr>\n",
       "    </tbody></table>"
      ],
      "text/plain": [
       "<pandas.io.formats.style.Styler at 0x222d179dbc8>"
      ]
     },
     "execution_count": 37,
     "metadata": {},
     "output_type": "execute_result"
    }
   ],
   "source": [
    "#creating a new dataframe to store Purchasing Analysis(age), using the original dataframe\n",
    "\n",
    "age_purchase_analysis1 = pd.DataFrame(pdpath)\n",
    "\n",
    "#binning, using the age ranges (already created previously):\n",
    "age_purchase_analysis1[\"Age Ranges\"] = pd.cut(age_purchase_analysis1[\"Age\"], age_bin, labels=age_group, include_lowest=True)\n",
    "\n",
    "#in order to use the group by:\n",
    "test1 = age_purchase_analysis1.groupby(\"Age Ranges\")\n",
    "\n",
    "#create a new dataframe to hold all the values\n",
    "age_purchase_analysis = pd.DataFrame({  \"Purchase Count\":test1[\"Purchase ID\"].count(),\n",
    "                                        \"Average Purchase Price\": test1[\"Price\"].mean(),\n",
    "                                      \"Total Purchase Value\": test1[\"Price\"].sum(),\n",
    "                                      \"Avg Total Purchase per Person\": test1[\"Price\"].sum()/test_list[\"Player\"].count()\n",
    "                                     })\n",
    "\n",
    "#formating the $ sign and rounding to 2 decimal points.\n",
    "age_purchase_analysis.style.format({\"Average Purchase Price\":\"${:,.2f}\",\n",
    "                               \"Total Purchase Value\":\"${:,.2f}\",\n",
    "                               \"Avg Total Purchase per Person\":\"${:,.2f}\"})"
   ]
  },
  {
   "cell_type": "code",
   "execution_count": 66,
   "metadata": {},
   "outputs": [],
   "source": [
    "file1 = pdpath2.groupby([\"SN\"])"
   ]
  },
  {
   "cell_type": "code",
   "execution_count": 83,
   "metadata": {},
   "outputs": [],
   "source": [
    "file2 = file1.count().head(5000)"
   ]
  },
  {
   "cell_type": "code",
   "execution_count": 87,
   "metadata": {},
   "outputs": [
    {
     "data": {
      "text/html": [
       "<div>\n",
       "<style scoped>\n",
       "    .dataframe tbody tr th:only-of-type {\n",
       "        vertical-align: middle;\n",
       "    }\n",
       "\n",
       "    .dataframe tbody tr th {\n",
       "        vertical-align: top;\n",
       "    }\n",
       "\n",
       "    .dataframe thead th {\n",
       "        text-align: right;\n",
       "    }\n",
       "</style>\n",
       "<table border=\"1\" class=\"dataframe\">\n",
       "  <thead>\n",
       "    <tr style=\"text-align: right;\">\n",
       "      <th></th>\n",
       "      <th>Purchase ID</th>\n",
       "      <th>Age</th>\n",
       "      <th>Gender</th>\n",
       "      <th>Item ID</th>\n",
       "      <th>Item Name</th>\n",
       "      <th>Price</th>\n",
       "    </tr>\n",
       "    <tr>\n",
       "      <th>SN</th>\n",
       "      <th></th>\n",
       "      <th></th>\n",
       "      <th></th>\n",
       "      <th></th>\n",
       "      <th></th>\n",
       "      <th></th>\n",
       "    </tr>\n",
       "  </thead>\n",
       "  <tbody>\n",
       "    <tr>\n",
       "      <th>Lisosia93</th>\n",
       "      <td>5</td>\n",
       "      <td>5</td>\n",
       "      <td>5</td>\n",
       "      <td>5</td>\n",
       "      <td>5</td>\n",
       "      <td>5</td>\n",
       "    </tr>\n",
       "    <tr>\n",
       "      <th>Iral74</th>\n",
       "      <td>4</td>\n",
       "      <td>4</td>\n",
       "      <td>4</td>\n",
       "      <td>4</td>\n",
       "      <td>4</td>\n",
       "      <td>4</td>\n",
       "    </tr>\n",
       "    <tr>\n",
       "      <th>Idastidru52</th>\n",
       "      <td>4</td>\n",
       "      <td>4</td>\n",
       "      <td>4</td>\n",
       "      <td>4</td>\n",
       "      <td>4</td>\n",
       "      <td>4</td>\n",
       "    </tr>\n",
       "    <tr>\n",
       "      <th>Asur53</th>\n",
       "      <td>3</td>\n",
       "      <td>3</td>\n",
       "      <td>3</td>\n",
       "      <td>3</td>\n",
       "      <td>3</td>\n",
       "      <td>3</td>\n",
       "    </tr>\n",
       "    <tr>\n",
       "      <th>Inguron55</th>\n",
       "      <td>3</td>\n",
       "      <td>3</td>\n",
       "      <td>3</td>\n",
       "      <td>3</td>\n",
       "      <td>3</td>\n",
       "      <td>3</td>\n",
       "    </tr>\n",
       "  </tbody>\n",
       "</table>\n",
       "</div>"
      ],
      "text/plain": [
       "             Purchase ID  Age  Gender  Item ID  Item Name  Price\n",
       "SN                                                              \n",
       "Lisosia93              5    5       5        5          5      5\n",
       "Iral74                 4    4       4        4          4      4\n",
       "Idastidru52            4    4       4        4          4      4\n",
       "Asur53                 3    3       3        3          3      3\n",
       "Inguron55              3    3       3        3          3      3"
      ]
     },
     "execution_count": 87,
     "metadata": {},
     "output_type": "execute_result"
    }
   ],
   "source": [
    "file2.sort_values(by = \"Age\", ascending=False).head(5)"
   ]
  },
  {
   "cell_type": "code",
   "execution_count": null,
   "metadata": {},
   "outputs": [],
   "source": [
    "file3 = file2"
   ]
  },
  {
   "cell_type": "code",
   "execution_count": null,
   "metadata": {},
   "outputs": [],
   "source": []
  }
 ],
 "metadata": {
  "kernelspec": {
   "display_name": "Python 3",
   "language": "python",
   "name": "python3"
  },
  "language_info": {
   "codemirror_mode": {
    "name": "ipython",
    "version": 3
   },
   "file_extension": ".py",
   "mimetype": "text/x-python",
   "name": "python",
   "nbconvert_exporter": "python",
   "pygments_lexer": "ipython3",
   "version": "3.7.6"
  }
 },
 "nbformat": 4,
 "nbformat_minor": 4
}
