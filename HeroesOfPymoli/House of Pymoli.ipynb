{
 "cells": [
  {
   "cell_type": "code",
   "execution_count": 12,
   "metadata": {},
   "outputs": [],
   "source": [
    "import pandas as pd\n",
    "path = \"Resources/purchase_data.csv\"\n",
    "pdpath = pd.read_csv(path)\n",
    "\n",
    "#creating empty lists\n",
    "unique_player = []\n",
    "unique_item = []\n",
    "total_purchased_item = []\n",
    "average_purchase_price = []\n",
    "total_revenue = []\n",
    "\n"
   ]
  },
  {
   "cell_type": "code",
   "execution_count": 7,
   "metadata": {},
   "outputs": [],
   "source": [
    "# storing unique total players on a list. Then we can do the length of the list, to find out how many unique players\n",
    "unique_player = pdpath[\"SN\"].unique()\n",
    "len(unique_player)"
   ]
  },
  {
   "cell_type": "code",
   "execution_count": 27,
   "metadata": {},
   "outputs": [],
   "source": [
    "#storing unique Items on a list. Then we can do the length of the list, to find out how many unique items\n",
    "unique_item = pdpath[\"Item Name\"].unique()\n",
    "#len(unique_item)"
   ]
  },
  {
   "cell_type": "code",
   "execution_count": 18,
   "metadata": {},
   "outputs": [],
   "source": [
    "#storing all purchases into a list. Then we can do calculations to find the total revenue, average purchase price,\n",
    "# and number of purchases.\n",
    "total_purchased_item = pdpath[\"Price\"]\n",
    "# Total revenue\n",
    "total_purchased_item.sum()\n",
    "# average price, rounding to 2 dec. points, and also $ format.\n",
    "average_purchase_price = \"${:,.2f}\".format(total_purchased_item.mean())\n",
    "# number of purchases. this is just the length\n",
    "len(total_purchased_item)"
   ]
  },
  {
   "cell_type": "code",
   "execution_count": 35,
   "metadata": {},
   "outputs": [],
   "source": [
    "#total revenue\n",
    "total_revenue = \"${:,.2f}\".format(total_purchased_item.sum())"
   ]
  },
  {
   "cell_type": "code",
   "execution_count": 38,
   "metadata": {},
   "outputs": [],
   "source": [
    "# creating a new dataframe for (PURCHASING ANALYSIS)\n",
    "purchasing_analysis_df = pd.DataFrame({\"Number of Unique Items\": [len(unique_item)],\n",
    "                          \"Average Purchase Price\": [average_purchase_price],\n",
    "                       \"Total Number of Purchases\": [len(total_purchased_item)],\n",
    "                       \"Total Revenue\":[total_revenue]\n",
    "                          }\n",
    ")"
   ]
  },
  {
   "cell_type": "code",
   "execution_count": 102,
   "metadata": {},
   "outputs": [
    {
     "data": {
      "text/html": [
       "<div>\n",
       "<style scoped>\n",
       "    .dataframe tbody tr th:only-of-type {\n",
       "        vertical-align: middle;\n",
       "    }\n",
       "\n",
       "    .dataframe tbody tr th {\n",
       "        vertical-align: top;\n",
       "    }\n",
       "\n",
       "    .dataframe thead th {\n",
       "        text-align: right;\n",
       "    }\n",
       "</style>\n",
       "<table border=\"1\" class=\"dataframe\">\n",
       "  <thead>\n",
       "    <tr style=\"text-align: right;\">\n",
       "      <th></th>\n",
       "      <th>Number of Unique Items</th>\n",
       "      <th>Average Purchase Price</th>\n",
       "      <th>Total Number of Purchases</th>\n",
       "      <th>Total Revenue</th>\n",
       "    </tr>\n",
       "  </thead>\n",
       "  <tbody>\n",
       "    <tr>\n",
       "      <th>0</th>\n",
       "      <td>179</td>\n",
       "      <td>$3.05</td>\n",
       "      <td>780</td>\n",
       "      <td>$2,379.77</td>\n",
       "    </tr>\n",
       "  </tbody>\n",
       "</table>\n",
       "</div>"
      ],
      "text/plain": [
       "   Number of Unique Items Average Purchase Price  Total Number of Purchases  \\\n",
       "0                     179                  $3.05                        780   \n",
       "\n",
       "  Total Revenue  \n",
       "0     $2,379.77  "
      ]
     },
     "execution_count": 102,
     "metadata": {},
     "output_type": "execute_result"
    }
   ],
   "source": [
    "purchasing_analysis_df"
   ]
  },
  {
   "cell_type": "code",
   "execution_count": 179,
   "metadata": {},
   "outputs": [],
   "source": [
    "#create a dataframe with: unique players, gender\n",
    "gender_df = pd.DataFrame({\"Player\": pdpath[\"SN\"],\n",
    "                          \"Gender\": pdpath[\"Gender\"],\n",
    "                        \"Age\": pdpath[\"Age\"]\n",
    "                         })"
   ]
  },
  {
   "cell_type": "code",
   "execution_count": 181,
   "metadata": {},
   "outputs": [],
   "source": [
    "#dropping/filtering by UNIQUE Player:\n",
    "gender_df.drop_duplicates(subset = \"Player\", keep = \"first\", inplace = True)"
   ]
  },
  {
   "cell_type": "code",
   "execution_count": 93,
   "metadata": {},
   "outputs": [],
   "source": [
    "# creating a \"Gender Demographics\" dataframe\n",
    "gender_demo_df = pd.DataFrame({\"Gender\":[\"Male\",\"Female\",\"Other / Non-Disclosed\"],\n",
    "                          \"Total Count\": [len(gender_df[gender_df[\"Gender\"]==\"Male\"]), len(gender_df[gender_df[\"Gender\"]==\"Female\"]), len(gender_df[gender_df[\"Gender\"]==\"Other / Non-Disclosed\"])],\n",
    "                               \"Percentage of Players\": [\"{0:.2f}%\".format((len(gender_df[gender_df[\"Gender\"]==\"Male\"])/len(gender_df[\"Gender\"])*100)),\"{0:.2f}%\".format((len(gender_df[gender_df[\"Gender\"]==\"Female\"])/len(gender_df[\"Gender\"])*100)), \"{0:.2f}%\".format((len(gender_df[gender_df[\"Gender\"]==\"Other / Non-Disclosed\"])/len(gender_df[\"Gender\"])*100))]\n",
    "                             })"
   ]
  },
  {
   "cell_type": "code",
   "execution_count": 100,
   "metadata": {},
   "outputs": [],
   "source": [
    "#Putting GENDER as Index\n",
    "gender_demo_df = gender_demo_df.set_index(\"Gender\")"
   ]
  },
  {
   "cell_type": "code",
   "execution_count": 103,
   "metadata": {},
   "outputs": [
    {
     "data": {
      "text/html": [
       "<div>\n",
       "<style scoped>\n",
       "    .dataframe tbody tr th:only-of-type {\n",
       "        vertical-align: middle;\n",
       "    }\n",
       "\n",
       "    .dataframe tbody tr th {\n",
       "        vertical-align: top;\n",
       "    }\n",
       "\n",
       "    .dataframe thead th {\n",
       "        text-align: right;\n",
       "    }\n",
       "</style>\n",
       "<table border=\"1\" class=\"dataframe\">\n",
       "  <thead>\n",
       "    <tr style=\"text-align: right;\">\n",
       "      <th></th>\n",
       "      <th>Total Count</th>\n",
       "      <th>Percentage of Players</th>\n",
       "    </tr>\n",
       "    <tr>\n",
       "      <th>Gender</th>\n",
       "      <th></th>\n",
       "      <th></th>\n",
       "    </tr>\n",
       "  </thead>\n",
       "  <tbody>\n",
       "    <tr>\n",
       "      <th>Male</th>\n",
       "      <td>484</td>\n",
       "      <td>84.03%</td>\n",
       "    </tr>\n",
       "    <tr>\n",
       "      <th>Female</th>\n",
       "      <td>81</td>\n",
       "      <td>14.06%</td>\n",
       "    </tr>\n",
       "    <tr>\n",
       "      <th>Other / Non-Disclosed</th>\n",
       "      <td>11</td>\n",
       "      <td>1.91%</td>\n",
       "    </tr>\n",
       "  </tbody>\n",
       "</table>\n",
       "</div>"
      ],
      "text/plain": [
       "                       Total Count Percentage of Players\n",
       "Gender                                                  \n",
       "Male                           484                84.03%\n",
       "Female                          81                14.06%\n",
       "Other / Non-Disclosed           11                 1.91%"
      ]
     },
     "execution_count": 103,
     "metadata": {},
     "output_type": "execute_result"
    }
   ],
   "source": [
    "gender_demo_df"
   ]
  },
  {
   "cell_type": "code",
   "execution_count": 173,
   "metadata": {},
   "outputs": [],
   "source": [
    "#instead of doing all the calculations in/on the dataframe creation, We are storing each individual calculated\n",
    "# values into a list, then storing the list into the dataframe\n",
    "\n",
    "#creating a list for Female's Average purchase price. formatting will put the $ AND 2 decimal points.\n",
    "female_avg_purchase_price = \"${:,.2f}\".format(float(pdpath.loc[pdpath[\"Gender\"]==\"Female\",[\"Price\"]].sum()/len(pdpath.loc[pdpath[\"Gender\"]==\"Female\",[\"Price\"]])))\n",
    "\n",
    "#creating a list for male's Average purchase price. formatting will put the $ AND 2 decimal points.\n",
    "male_avg_purchase_price = \"${:,.2f}\".format(float(pdpath.loc[pdpath[\"Gender\"]==\"Male\",[\"Price\"]].sum()/len(pdpath.loc[pdpath[\"Gender\"]==\"Male\",[\"Price\"]])))\n",
    "\n",
    "#creating a list for other gender's Average purchase price. formatting will put the $ AND 2 decimal points.\n",
    "other_avg_purchase_price = \"${:,.2f}\".format(float(pdpath.loc[pdpath[\"Gender\"]==\"Other / Non-Disclosed\",[\"Price\"]].sum()/len(pdpath.loc[pdpath[\"Gender\"]==\"Other / Non-Disclosed\",[\"Price\"]])))\n",
    "\n",
    "#creating female's total purchase value:\n",
    "female_total_purchase = \"${:,.2f}\".format(float(pdpath.loc[pdpath[\"Gender\"]==\"Female\",[\"Price\"]].sum()))\n",
    "\n",
    "#creating male's total purchase value:\n",
    "male_total_purchase = \"${:,.2f}\".format(float(pdpath.loc[pdpath[\"Gender\"]==\"Male\",[\"Price\"]].sum()))\n",
    "\n",
    "#creating other gender's total purchase value:\n",
    "other_total_purchase = \"${:,.2f}\".format(float(pdpath.loc[pdpath[\"Gender\"]==\"Other / Non-Disclosed\",[\"Price\"]].sum()))\n",
    "\n",
    "#creating female's average total purchase per PERSON: \n",
    "#NOTE: we are dividing the total purchase value of ALL female by the UNIQUE count of all female.\n",
    "# this will be the same while calculating male and other gender's average total purchase per person.\n",
    "# we are pulling the unique count of gender FROM the \"gender_df\" dataframe, because it already filtered the unique value.\n",
    "female_avg_purc_perperson = \"${:,.2f}\".format(float(pdpath.loc[pdpath[\"Gender\"]==\"Female\",[\"Price\"]].sum()/len(gender_df.loc[gender_df[\"Gender\"]==\"Female\"])))\n",
    "\n",
    "#now doing it for male and other gender:\n",
    "male_avg_purc_perperson = \"${:,.2f}\".format(float(pdpath.loc[pdpath[\"Gender\"]==\"Male\",[\"Price\"]].sum()/len(gender_df.loc[gender_df[\"Gender\"]==\"Male\"])))\n",
    "other_avg_purc_perperson = \"${:,.2f}\".format(float(pdpath.loc[pdpath[\"Gender\"]==\"Other / Non-Disclosed\",[\"Price\"]].sum()/len(gender_df.loc[gender_df[\"Gender\"]==\"Other / Non-Disclosed\"])))\n",
    "\n",
    "# now that all the variables have been set, we can finally create a dataframe to hold all the values.\n",
    "# creating a \"Purchasing Analysis (Gender)\" dataframe\n",
    "purchasing_analysis_df = pd.DataFrame({\"Gender\":[\"Male\",\"Female\",\"Other / Non-Disclosed\"],\n",
    "      \"Purchase Count\":[len(pdpath.loc[pdpath[\"Gender\"]==\"Female\",[\"Price\"]]), len(pdpath.loc[pdpath[\"Gender\"]==\"Male\",[\"Price\"]]), len(pdpath.loc[pdpath[\"Gender\"]==\"Other / Non-Disclosed\",[\"Price\"]])],\n",
    "      \"Average Purchase Price\":[female_avg_purchase_price,male_avg_purchase_price,other_avg_purchase_price],\n",
    "      \"Total Purchase Value\":[female_total_purchase,male_total_purchase,other_total_purchase],\n",
    "      \"Avg Total Purchase per Person\":[female_avg_purc_perperson,male_avg_purc_perperson,other_avg_purc_perperson]\n",
    "    \n",
    "})"
   ]
  },
  {
   "cell_type": "code",
   "execution_count": 175,
   "metadata": {},
   "outputs": [
    {
     "data": {
      "text/html": [
       "<div>\n",
       "<style scoped>\n",
       "    .dataframe tbody tr th:only-of-type {\n",
       "        vertical-align: middle;\n",
       "    }\n",
       "\n",
       "    .dataframe tbody tr th {\n",
       "        vertical-align: top;\n",
       "    }\n",
       "\n",
       "    .dataframe thead th {\n",
       "        text-align: right;\n",
       "    }\n",
       "</style>\n",
       "<table border=\"1\" class=\"dataframe\">\n",
       "  <thead>\n",
       "    <tr style=\"text-align: right;\">\n",
       "      <th></th>\n",
       "      <th>Purchase Count</th>\n",
       "      <th>Average Purchase Price</th>\n",
       "      <th>Total Purchase Value</th>\n",
       "      <th>Avg Total Purchase per Person</th>\n",
       "    </tr>\n",
       "    <tr>\n",
       "      <th>Gender</th>\n",
       "      <th></th>\n",
       "      <th></th>\n",
       "      <th></th>\n",
       "      <th></th>\n",
       "    </tr>\n",
       "  </thead>\n",
       "  <tbody>\n",
       "    <tr>\n",
       "      <th>Male</th>\n",
       "      <td>113</td>\n",
       "      <td>$3.20</td>\n",
       "      <td>$361.94</td>\n",
       "      <td>$4.47</td>\n",
       "    </tr>\n",
       "    <tr>\n",
       "      <th>Female</th>\n",
       "      <td>652</td>\n",
       "      <td>$3.02</td>\n",
       "      <td>$1,967.64</td>\n",
       "      <td>$4.07</td>\n",
       "    </tr>\n",
       "    <tr>\n",
       "      <th>Other / Non-Disclosed</th>\n",
       "      <td>15</td>\n",
       "      <td>$3.35</td>\n",
       "      <td>$50.19</td>\n",
       "      <td>$4.56</td>\n",
       "    </tr>\n",
       "  </tbody>\n",
       "</table>\n",
       "</div>"
      ],
      "text/plain": [
       "                       Purchase Count Average Purchase Price  \\\n",
       "Gender                                                         \n",
       "Male                              113                  $3.20   \n",
       "Female                            652                  $3.02   \n",
       "Other / Non-Disclosed              15                  $3.35   \n",
       "\n",
       "                      Total Purchase Value Avg Total Purchase per Person  \n",
       "Gender                                                                    \n",
       "Male                               $361.94                         $4.47  \n",
       "Female                           $1,967.64                         $4.07  \n",
       "Other / Non-Disclosed               $50.19                         $4.56  "
      ]
     },
     "execution_count": 175,
     "metadata": {},
     "output_type": "execute_result"
    }
   ],
   "source": [
    "#Putting GENDER as Index\n",
    "purchasing_analysis_df = purchasing_analysis_df.set_index(\"Gender\")\n",
    "purchasing_analysis_df"
   ]
  },
  {
   "cell_type": "code",
   "execution_count": null,
   "metadata": {},
   "outputs": [],
   "source": [
    "# for Age Demographics analysis, we need to establish Age bin list\n",
    "age_bin = [<11, 11-20, 21-30, >30]\n"
   ]
  },
  {
   "cell_type": "code",
   "execution_count": null,
   "metadata": {},
   "outputs": [],
   "source": []
  },
  {
   "cell_type": "code",
   "execution_count": 186,
   "metadata": {},
   "outputs": [
    {
     "data": {
      "text/plain": [
       "17"
      ]
     },
     "execution_count": 186,
     "metadata": {},
     "output_type": "execute_result"
    }
   ],
   "source": [
    "len(gender_df.loc[gender_df[\"Age\"]<10])"
   ]
  },
  {
   "cell_type": "code",
   "execution_count": 187,
   "metadata": {},
   "outputs": [
    {
     "data": {
      "text/plain": [
       "576"
      ]
     },
     "execution_count": 187,
     "metadata": {},
     "output_type": "execute_result"
    }
   ],
   "source": [
    "len(gender_df.loc[gender_df[\"Age\"]])"
   ]
  },
  {
   "cell_type": "code",
   "execution_count": 188,
   "metadata": {},
   "outputs": [
    {
     "data": {
      "text/plain": [
       "0.029513888888888888"
      ]
     },
     "execution_count": 188,
     "metadata": {},
     "output_type": "execute_result"
    }
   ],
   "source": [
    "len(gender_df.loc[gender_df[\"Age\"]<10])/len(gender_df.loc[gender_df[\"Age\"]])"
   ]
  },
  {
   "cell_type": "code",
   "execution_count": null,
   "metadata": {},
   "outputs": [],
   "source": []
  }
 ],
 "metadata": {
  "kernelspec": {
   "display_name": "Python 3",
   "language": "python",
   "name": "python3"
  },
  "language_info": {
   "codemirror_mode": {
    "name": "ipython",
    "version": 3
   },
   "file_extension": ".py",
   "mimetype": "text/x-python",
   "name": "python",
   "nbconvert_exporter": "python",
   "pygments_lexer": "ipython3",
   "version": "3.7.6"
  }
 },
 "nbformat": 4,
 "nbformat_minor": 4
}
